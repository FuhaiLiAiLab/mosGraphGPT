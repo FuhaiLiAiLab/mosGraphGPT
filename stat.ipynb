{
 "cells": [
  {
   "cell_type": "markdown",
   "metadata": {},
   "source": [
    "## 1. Load Training/Test Data Acc"
   ]
  },
  {
   "cell_type": "markdown",
   "metadata": {},
   "source": [
    "### 1.1 Get Performance of UCSC"
   ]
  },
  {
   "cell_type": "code",
   "execution_count": null,
   "metadata": {},
   "outputs": [],
   "source": [
    "# pretrain + gformer\n"
   ]
  },
  {
   "cell_type": "code",
   "execution_count": null,
   "metadata": {},
   "outputs": [],
   "source": [
    "# gat\n",
    "# -------------BEST TEST ACCURACY MODEL ID INFO:7-------------\n",
    "# --- TRAIN ---\n",
    "# BEST MODEL TRAIN LOSS:  0.6838108216013227\n",
    "# BEST MODEL TRAIN ACCURACY:  0.6019417475728155\n",
    "# --- TEST ---\n",
    "# BEST MODEL TEST LOSS:  0.6862398982048035\n",
    "# BEST MODEL TEST ACCURACY:  0.68\n",
    "\n"
   ]
  },
  {
   "cell_type": "code",
   "execution_count": null,
   "metadata": {},
   "outputs": [],
   "source": [
    "# gformer\n"
   ]
  }
 ],
 "metadata": {
  "kernelspec": {
   "display_name": "mkg",
   "language": "python",
   "name": "python3"
  },
  "language_info": {
   "name": "python",
   "version": "3.10.14"
  }
 },
 "nbformat": 4,
 "nbformat_minor": 2
}
