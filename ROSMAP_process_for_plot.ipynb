{
 "cells": [
  {
   "cell_type": "markdown",
   "id": "c50dcdd8",
   "metadata": {},
   "source": [
    "## Step 2: Split Files Based on AD\n",
    "Here, separate the processed files into different directories based on the gender of the individual associated with each file.\n"
   ]
  },
  {
   "cell_type": "code",
   "execution_count": 1,
   "id": "a3c670e1",
   "metadata": {},
   "outputs": [],
   "source": [
    "import os\n",
    "import shutil\n",
    "import pandas as pd\n",
    "\n",
    "map_dict_path = 'ROSMAP-graph-data/survival_label_map_dict.csv'\n",
    "map_dict_df = pd.read_csv(map_dict_path)\n",
    "num_to_id_dict = pd.Series(map_dict_df['individualID'].values, index=map_dict_df['individualID_Num']).to_dict()\n",
    "\n",
    "label_path = 'ROSMAP-graph-data/survival-label.csv'\n",
    "label_df = pd.read_csv(label_path)\n",
    "id_to_AD_dict = pd.Series(label_df['ceradsc'].values, index=label_df['individualID']).to_dict()\n",
    "\n",
    "survival_dir = './ROSMAP-analysis/avg/'\n",
    "files = os.listdir(survival_dir)\n",
    "\n",
    "AD_dir = './ROSMAP-analysis/fold_0/AD'\n",
    "NOAD_dir = './ROSMAP-analysis/fold_0/NOAD'\n",
    "\n",
    "os.makedirs(AD_dir, exist_ok=True)\n",
    "os.makedirs(NOAD_dir, exist_ok=True)\n",
    "\n",
    "for file in files:\n",
    "    if file.endswith('.csv'):\n",
    "        num = int(file.split('survival')[1].split('.csv')[0])\n",
    "\n",
    "        if num in num_to_id_dict:\n",
    "            individual_id = num_to_id_dict[num]\n",
    "\n",
    "            if individual_id in id_to_AD_dict:\n",
    "                ad = id_to_AD_dict[individual_id]\n",
    "\n",
    "                if ad == 0:\n",
    "                    shutil.copy(os.path.join(survival_dir, file), os.path.join(NOAD_dir, file))\n",
    "                elif ad == 1:\n",
    "                    shutil.copy(os.path.join(survival_dir, file), os.path.join(AD_dir, file))"
   ]
  },
  {
   "cell_type": "markdown",
   "id": "e71ef644",
   "metadata": {},
   "source": [
    "## Step 3: Merge Files and Calculate Average Attention\n",
    "Finally, merge the filtered files and compute the average attention across them, based on certain key columns.\n"
   ]
  },
  {
   "cell_type": "code",
   "execution_count": 2,
   "id": "08536aab",
   "metadata": {},
   "outputs": [
    {
     "name": "stdout",
     "output_type": "stream",
     "text": [
      "File saved to 'average_attention_NOAD.csv'\n",
      "File saved to 'average_attention_AD.csv'\n"
     ]
    }
   ],
   "source": [
    "import os\n",
    "import pandas as pd\n",
    "\n",
    "def merge_and_average_attention(folder_path):\n",
    "    all_data = []\n",
    "    key_columns = ['From', 'To', 'EdgeType']\n",
    "    \n",
    "    # Read each file and collect the data\n",
    "    for filename in os.listdir(folder_path):\n",
    "        if filename.endswith('.csv'):\n",
    "            file_path = os.path.join(folder_path, filename)\n",
    "            df = pd.read_csv(file_path)\n",
    "            \n",
    "            # Select relevant columns, ensuring 'individualID' is not included\n",
    "            if 'individualID' in df.columns:\n",
    "                df = df.drop(columns=['individualID'])\n",
    "            \n",
    "            # Check if all necessary columns are present\n",
    "            if all(col in df.columns for col in key_columns + ['Attention']):\n",
    "                all_data.append(df)\n",
    "            else:\n",
    "                print(f\"File {filename} is missing one of the required columns.\")\n",
    "    \n",
    "    # Concatenate all the dataframes in the list\n",
    "    if not all_data:\n",
    "        print(\"No valid files to process.\")\n",
    "        return None\n",
    "    \n",
    "    combined_df = pd.concat(all_data, ignore_index=True)\n",
    "    \n",
    "    # Group by the key columns and calculate the mean of 'Attention'\n",
    "    result_df = combined_df.groupby(key_columns)['Attention'].mean().reset_index()\n",
    "    \n",
    "    return result_df\n",
    "\n",
    "# Process the female data\n",
    "female_folder_path = './ROSMAP-analysis/fold_0/NOAD/'\n",
    "\n",
    "female_result_df = merge_and_average_attention(female_folder_path)\n",
    "\n",
    "if female_result_df is not None:\n",
    "    female_result_df.to_csv('./ROSMAP-analysis/fold_0/average_attention_NOAD.csv', index=False)\n",
    "    print(\"File saved to 'average_attention_NOAD.csv'\")\n",
    "else:\n",
    "    print(\"No valid data found to process.\")\n",
    "\n",
    "# Process the male data\n",
    "male_folder_path = './ROSMAP-analysis/fold_0/AD/'\n",
    "\n",
    "male_result_df = merge_and_average_attention(male_folder_path)\n",
    "\n",
    "if male_result_df is not None:\n",
    "    male_result_df.to_csv('./ROSMAP-analysis/fold_0/average_attention_AD.csv', index=False)\n",
    "    print(\"File saved to 'average_attention_AD.csv'\")\n",
    "else:\n",
    "    print(\"No valid data found to process.\")\n"
   ]
  }
 ],
 "metadata": {
  "kernelspec": {
   "display_name": "win_env",
   "language": "python",
   "name": "python3"
  },
  "language_info": {
   "codemirror_mode": {
    "name": "ipython",
    "version": 3
   },
   "file_extension": ".py",
   "mimetype": "text/x-python",
   "name": "python",
   "nbconvert_exporter": "python",
   "pygments_lexer": "ipython3",
   "version": "3.10.14"
  }
 },
 "nbformat": 4,
 "nbformat_minor": 5
}
